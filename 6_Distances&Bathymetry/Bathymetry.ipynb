{
 "cells": [
  {
   "cell_type": "markdown",
   "id": "23fe475e-3c52-4963-8c01-6e193c11d428",
   "metadata": {},
   "source": [
    "# Computing the Bathymetry between stations"
   ]
  },
  {
   "cell_type": "markdown",
   "id": "be7c424f-b63b-497e-af6d-1f346a15f19e",
   "metadata": {},
   "source": [
    "In this section, we compute the bathymetry between stations. This will be useful to then plot vertical section along some stations (i.e., a transect).\n",
    "\n",
    "The bathymetry was downloaded from the GEBCO site (https://download.gebco.net/) in a netCDF file."
   ]
  },
  {
   "cell_type": "code",
   "execution_count": 2,
   "id": "e22617e1-c8a6-44ee-ace9-2308d759b7ba",
   "metadata": {
    "tags": []
   },
   "outputs": [],
   "source": [
    "#Imports\n",
    "import sys\n",
    "import numpy as np\n",
    "import pandas as pd\n",
    "import netCDF4\n",
    "from shapely.geometry import Point, LineString, MultiPoint\n",
    "\n",
    "#Import path to custom functions\n",
    "sys.path.append('C:/Users/pauab/Universidad/aProgramacion/TFM/Notebooks_Pau/my_functions/')\n",
    "#Import custom functions\n",
    "from read_CTD import read_CTD    #To read CTD files\n",
    "from out_outliers import out_outliers     #To replace outliers\n",
    "\n",
    "#Import path to custom functions\n",
    "sys.path.append('C:/Users/pauab/Universidad/aProgramacion/TFM/Notebooks_Pau/my_functions/distance/')\n",
    "from distances import *\n",
    "\n",
    "#To turn off warnings\n",
    "import warnings\n",
    "warnings.filterwarnings('ignore')"
   ]
  },
  {
   "cell_type": "code",
   "execution_count": 5,
   "id": "706531b1-7399-40f1-b2f8-e4f0d772bb55",
   "metadata": {
    "tags": []
   },
   "outputs": [],
   "source": [
    "#Data reading and outlier replacement\n",
    "data_dirs = ['C:/Users/pauab/Universidad/Data/TFM/CTD_recalc/']\n",
    "data=read_CTD(data_dirs)\n",
    "\n",
    "for ncast in data.keys():\n",
    "    for variable in data[ncast].columns:\n",
    "        out_outliers(data, ncast, variable)\n",
    "    data[ncast]['pressure']=data[ncast].index\n",
    "    data[ncast].index = np.arange(0, len(data[ncast].index))\n",
    "    \n",
    "#Dict with all transsects\n",
    "transsects = {'transsect_0':['15','12','13','14'],\n",
    "              'transsect_1':['19','18','17','16'],\n",
    "              'transsect_2':['24','23','22','21'],\n",
    "              'transsect_3':['26','27','28','29'],\n",
    "              'transsect_4':['31','32','33','34'],\n",
    "              'transsect_5':['38','37','36','35'],\n",
    "              'transsect_6':['43','44','45','46']}"
   ]
  },
  {
   "cell_type": "code",
   "execution_count": 6,
   "id": "fa9e87a4-8438-46ea-bc0c-eb9749e8fcd5",
   "metadata": {
    "tags": []
   },
   "outputs": [],
   "source": [
    "# Get bathymetry for the selected section\n",
    "# Get GEBCO nc file. This is the file for around iberian peninsula\n",
    "gebco = 'C:/Users/pauab/Universidad/Data/TFM/Bathymetry/GEBCO_16_Feb_2022_8d3ca050bc32/gebco_2021_n44.857177734375_s34.991455078125_w-11.97509765625_e-4.37255859375.nc'\n",
    "\n",
    "with netCDF4.Dataset(gebco) as netcdf:\n",
    "#     print(netcdf.variables)\n",
    "    x = np.array(netcdf.variables['lon'][:])\n",
    "    y = np.array(netcdf.variables['lat'][:])\n",
    "    z = np.squeeze(np.array(netcdf.variables['elevation'][:]))\n",
    "#     projection = netcdf.variables['albers_conical_equal_area'].spatial_ref\n",
    "\n",
    "\n",
    "#Compute the bathymetry profile\n",
    "bathy_transsects = {}\n",
    "xoffset=False         #xoffset in km. False means no offset\n",
    "#Iterate over the transsects where you want to compute the bathymetry\n",
    "for transsect in transsects.keys():\n",
    "    profile_df = pd.DataFrame()\n",
    "    profile_full = pd.DataFrame() # If stations align well might be useful\n",
    "    station_index = [0]\n",
    "    \n",
    "    #Get the lat and lon of the transsect stations\n",
    "    station_lats = []\n",
    "    station_longs = []\n",
    "    for ncast in transsects[transsect]:\n",
    "        station_lats.append(data[ncast]['latitude'].iloc[-1])\n",
    "        station_longs.append(data[ncast]['longitude'].iloc[-1])\n",
    "        \n",
    "    #variables needed\n",
    "    sect_start_lon = station_longs[0]\n",
    "    sect_start_lat = station_lats[0]\n",
    "\n",
    "    # If we start the section before the first station, we also want bathy then\n",
    "    if xoffset:\n",
    "        start_profile = Point(sect_start_lon, sect_start_lat)    # Calc first segment points\n",
    "        end_profile = Point(station_longs[0], station_lats[0])\n",
    "\n",
    "        # Get first segment into dataframe\n",
    "        profile_df = pd.DataFrame(get_profile(start_profile, end_profile, resolution=1000))\n",
    "\n",
    "        # Store station indexes\n",
    "        station_index.append(profile_df.index[-1])\n",
    "        tmp_distance = profile_df['distance'].iloc[-1] #experimental\n",
    "        #print(tmp_distance)\n",
    "\n",
    "    # Iterate over CTD stations\n",
    "    for i in range(len(station_lats)):\n",
    "\n",
    "        # All stations \n",
    "        if i < len(station_lats)-1:\n",
    "            start_profile = Point(station_longs[i], station_lats[i])   # Cacl segment points\n",
    "            end_profile = Point(station_longs[i+1], station_lats[i+1])\n",
    "\n",
    "            # In case no xoffset, then we need to populate dataframe first\n",
    "            if profile_df.empty:\n",
    "                profile_df = pd.DataFrame(get_profile(start_profile, end_profile, resolution=1000))\n",
    "                station_index.append(profile_df.index[-1])\n",
    "                tmp_distance = profile_df['distance'].iloc[-1] \n",
    "\n",
    "            else:\n",
    "                profile_temp = pd.DataFrame(get_profile(start_profile, end_profile, resolution=1000))\n",
    "\n",
    "                # Temp df to perform cumulative sum of distances. Incremental addition\n",
    "                profile_temp['distance'] = profile_temp['distance'] + tmp_distance # experimental\n",
    "                profile_df = pd.concat([profile_df, profile_temp])\n",
    "                station_index.append(profile_df.index[-1])\n",
    "                tmp_distance = profile_df['distance'].iloc[-1] # Store max distance for next iteration\n",
    "\n",
    "        # When at last station, we want bathy to be extended by xoffset also\n",
    "        elif i == len(station_lats)-1:\n",
    "            start_profile = Point(station_longs[i], station_lats[i])\n",
    "            end_profile = Point(station_longs[i] - xoffset, station_lats[i])\n",
    "\n",
    "            profile_temp = pd.DataFrame(get_profile(start_profile, end_profile, resolution=1000))\n",
    "            profile_temp['distance'] = profile_temp['distance'] + tmp_distance \n",
    "            profile_df = pd.concat([profile_df, profile_temp])\n",
    "            station_index.append(profile_df.index[-1])\n",
    "\n",
    "    # Reset indexes in dataframe and add as column\n",
    "    profile_df.reset_index(drop=True, inplace=True)\n",
    "    profile_df['comp_dist'] = profile_df.index\n",
    "    bathy_transsects[transsect] = profile_df"
   ]
  },
  {
   "cell_type": "markdown",
   "id": "899501d0-b7c2-4c75-9002-86dfff65945c",
   "metadata": {},
   "source": [
    "We created the function bathymatry_transsects.py to simplify the previous code. The function computes the bathymetry field between the stations of a given transect.\n",
    "\n",
    "It returns a dict where the bathymetry field (value) is stored according to the transsect number (key)"
   ]
  },
  {
   "cell_type": "code",
   "execution_count": null,
   "id": "c4ff58f2-6e0d-434b-937a-c681b7589789",
   "metadata": {},
   "outputs": [],
   "source": []
  }
 ],
 "metadata": {
  "kernelspec": {
   "display_name": "Python 3 (ipykernel)",
   "language": "python",
   "name": "python3"
  },
  "language_info": {
   "codemirror_mode": {
    "name": "ipython",
    "version": 3
   },
   "file_extension": ".py",
   "mimetype": "text/x-python",
   "name": "python",
   "nbconvert_exporter": "python",
   "pygments_lexer": "ipython3",
   "version": "3.9.7"
  }
 },
 "nbformat": 4,
 "nbformat_minor": 5
}
