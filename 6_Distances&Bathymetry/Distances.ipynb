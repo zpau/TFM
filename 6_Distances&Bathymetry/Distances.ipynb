{
 "cells": [
  {
   "cell_type": "markdown",
   "id": "1752f635-27da-4cb4-aa69-f9b3c4bda53d",
   "metadata": {},
   "source": [
    "# Computing distances between stations"
   ]
  },
  {
   "cell_type": "markdown",
   "id": "c9b07b1c-f4ec-42a4-a4fb-7f9ee58e64d2",
   "metadata": {},
   "source": [
    "In this section, we compute the distances between the stations that form the transsects. This will be useful to then plot vertical sections where the x axes will be the distance between stations. "
   ]
  },
  {
   "cell_type": "code",
   "execution_count": 4,
   "id": "be1a44b3-f2fe-42d6-9c8d-cb527875b4e2",
   "metadata": {
    "tags": []
   },
   "outputs": [],
   "source": [
    "#Imports\n",
    "import sys\n",
    "import numpy as np\n",
    "import pandas as pd\n",
    "from shapely.geometry import Point, LineString, MultiPoint\n",
    "\n",
    "#Import path to custom functions\n",
    "sys.path.append('C:/Users/pauab/Universidad/aProgramacion/TFM/Notebooks_Pau/my_functions/')\n",
    "#Import custom functions\n",
    "from read_CTD import read_CTD    #To read CTD files\n",
    "from out_outliers import out_outliers     #To replace outliers\n",
    "\n",
    "#Import path to custom functions\n",
    "sys.path.append('C:/Users/pauab/Universidad/aProgramacion/TFM/Notebooks_Pau/my_functions/distance/')\n",
    "from distances import *\n",
    "\n",
    "#To turn off warnings\n",
    "import warnings\n",
    "warnings.filterwarnings('ignore')"
   ]
  },
  {
   "cell_type": "code",
   "execution_count": 7,
   "id": "dafd967c-2b77-485a-bd14-05e1dd64cd05",
   "metadata": {
    "tags": []
   },
   "outputs": [],
   "source": [
    "#Data reading and outlier replacement\n",
    "data_dirs = ['C:/Users/pauab/Universidad/Data/TFM/CTD_recalc/']\n",
    "data=read_CTD(data_dirs)\n",
    "\n",
    "for ncast in data.keys():\n",
    "    for variable in data[ncast].columns:\n",
    "        out_outliers(data, ncast, variable)\n",
    "    data[ncast]['pressure']=data[ncast].index\n",
    "    data[ncast].index = np.arange(0, len(data[ncast].index))\n",
    "    \n",
    "#Dict with all transsects and ncasts\n",
    "transsects = {'transsect_0':['15','12','13','14'],\n",
    "              'transsect_1':['19','18','17','16'],\n",
    "              'transsect_2':['24','23','22','21'],\n",
    "              'transsect_3':['26','27','28','29'],\n",
    "              'transsect_4':['31','32','33','34'],\n",
    "              'transsect_5':['38','37','36','35'],\n",
    "              'transsect_6':['43','44','45','46']}"
   ]
  },
  {
   "cell_type": "code",
   "execution_count": 8,
   "id": "1f115133-454d-4b44-8318-46cf87bf6361",
   "metadata": {},
   "outputs": [],
   "source": [
    "# The following code computes the distances of the stations that form a transect\n",
    "# It stores the distances in a dict where the keys are the transects' names and the values the distances between stations\n",
    "\n",
    "distances = {}\n",
    "#Iterate over the transects where you want to compute the distances\n",
    "for transsect in transsects.keys():\n",
    "    #Get the lats and lons of stations\n",
    "    station_lats = []\n",
    "    station_longs = []\n",
    "    for ncast in transsects[transsect]:\n",
    "        station_lats.append(data[ncast]['latitude'].iloc[-1])\n",
    "        station_longs.append(data[ncast]['longitude'].iloc[-1])\n",
    "        \n",
    "    # Define temp variable to store results\n",
    "    tmp_dist = []\n",
    "\n",
    "    # Iterate over lats and longs and number of stations to compute distances\n",
    "    for i, j, k in zip(station_lats, station_longs, range(len(station_lats))):\n",
    "\n",
    "        # First distance from section_start (xoffset) and first ctd station\n",
    "        if k == 0:\n",
    "            tmp_dist.append(dist_aux(station_lats[0], station_longs[0], i, j))\n",
    "            tmp_lat = i\n",
    "            tmp_lon = j\n",
    "        else:\n",
    "            tmp_dist.append(dist_aux(tmp_lat, tmp_lon, i, j))\n",
    "            tmp_lat = i\n",
    "            tmp_lon = j\n",
    "\n",
    "    # Perform cumulative summatory\n",
    "    tmp_dist = list(np.cumsum(tmp_dist))\n",
    "    \n",
    "    #Add distances to the dictionary\n",
    "    distances[transsect] = tmp_dist"
   ]
  },
  {
   "cell_type": "markdown",
   "id": "c3778e70-acd9-40a5-af5c-2ba456223513",
   "metadata": {},
   "source": [
    "We created the function transsect_distances.py to simplify the previous code. The function computes the distances between the stations of n given transects.\n",
    "\n",
    "It returns a dict with the lists of the distances (values) of each transsect (keys)."
   ]
  }
 ],
 "metadata": {
  "kernelspec": {
   "display_name": "Python 3 (ipykernel)",
   "language": "python",
   "name": "python3"
  },
  "language_info": {
   "codemirror_mode": {
    "name": "ipython",
    "version": 3
   },
   "file_extension": ".py",
   "mimetype": "text/x-python",
   "name": "python",
   "nbconvert_exporter": "python",
   "pygments_lexer": "ipython3",
   "version": "3.9.7"
  }
 },
 "nbformat": 4,
 "nbformat_minor": 5
}
