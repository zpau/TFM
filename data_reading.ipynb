{
 "cells": [
  {
   "cell_type": "markdown",
   "id": "66861544-a026-4880-999f-fae56cd773c1",
   "metadata": {},
   "source": [
    "# Data reading "
   ]
  },
  {
   "cell_type": "markdown",
   "id": "4210c61f-bb91-4017-a0e9-6d0f30070353",
   "metadata": {},
   "source": [
    "Data reading of CTD files (.cnv) stored in a particular folder."
   ]
  },
  {
   "cell_type": "code",
   "execution_count": 1,
   "id": "cfc6bf77-fe38-4c9f-9e0b-22ddc7a1e2b5",
   "metadata": {},
   "outputs": [],
   "source": [
    "#30/02/2022 - zpau\n",
    "#The following code reads the ctd data from .cnv files stored in a particular folder (path)\n",
    "#\n",
    "#Imports\n",
    "import os\n",
    "import pandas as pd\n",
    "import ctd\n",
    "\n",
    "#Important:\n",
    "#ctd library has to be in its 1.1.1 version\n",
    "#to check its version use the following:\n",
    "#ctd.__version__\n",
    "#to change its version introduce the following in the conda console:\n",
    "#\"conda install -c conda-forge ctd=1.1.1\"\n",
    "\n",
    "#Creation of a data files list\n",
    "#data_dirs is the path where the files are stored\n",
    "data_dirs = ['C:/Users/Pau/Data/TFM/CTD_proc_files_1mbin/']\n",
    "filenames = []\n",
    "for data_dir in data_dirs:\n",
    "    items = os.listdir(data_dir)\n",
    "    for names in items:\n",
    "        if names.endswith('.cnv'):\n",
    "            filenames.append(os.path.join(data_dir, names))\n",
    "\n",
    "#Create dictionary of dataframes to store downcast by cast number(ncast from now on)\n",
    "#data will be the dictionary where the DFs classified by the ncast numbers are stored\n",
    "data = {}\n",
    "for file in filenames:\n",
    "    cast_num = file[-19:-17]\n",
    "    down_, up_ = ctd.from_cnv(file).split()\n",
    "    data[cast_num] = down_\n",
    "\n",
    "#Removal of the variables that will not be used\n",
    "columnsNOT=['CStarAt0','CStarTr0','nbf','scan','sfdSM','turbWETntu0','nbin','flag']\n",
    "for i in data.keys():\n",
    "    for column in data[i].columns:\n",
    "        #print(column)\n",
    "        #print(column in columnsNOT)\n",
    "        if column in columnsNOT:\n",
    "            del data[i][column]\n",
    "\n",
    "#Rename the variables to ease the work\n",
    "for i in data.keys():  \n",
    "    old_names = list(data[i].columns)\n",
    "    new_names = ['density','sigma','depth','fluorescence','oxygen','pot_temperature','salinity','temperature','latitude','longitude']\n",
    "    name_columns = dict(zip(old_names,new_names))\n",
    "    data[i].rename(columns=name_columns, inplace=True)\n",
    "    \n",
    "#Reading the metadata\n",
    "metadata = {}\n",
    "for file in filenames:\n",
    "    cast_num = file[-19:-17]\n",
    "    cast = ctd.from_cnv(file)\n",
    "    metadata[cast_num] = cast._metadata"
   ]
  },
  {
   "cell_type": "code",
   "execution_count": null,
   "id": "56aa6bd0-5a09-4574-a359-d875f710ab64",
   "metadata": {},
   "outputs": [],
   "source": []
  }
 ],
 "metadata": {
  "kernelspec": {
   "display_name": "Python 3 (ipykernel)",
   "language": "python",
   "name": "python3"
  },
  "language_info": {
   "codemirror_mode": {
    "name": "ipython",
    "version": 3
   },
   "file_extension": ".py",
   "mimetype": "text/x-python",
   "name": "python",
   "nbconvert_exporter": "python",
   "pygments_lexer": "ipython3",
   "version": "3.9.7"
  }
 },
 "nbformat": 4,
 "nbformat_minor": 5
}
